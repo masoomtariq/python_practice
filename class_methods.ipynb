{
 "cells": [
  {
   "cell_type": "markdown",
   "id": "ee788072",
   "metadata": {},
   "source": [
    "## Class Methods"
   ]
  },
  {
   "cell_type": "markdown",
   "id": "882b73d3",
   "metadata": {},
   "source": [
    "### Examples\n",
    "#### Instance Method"
   ]
  },
  {
   "cell_type": "code",
   "execution_count": 1,
   "id": "7739a99a",
   "metadata": {},
   "outputs": [],
   "source": [
    "class rectangle:\n",
    "    # constructor\n",
    "    def __init__(self, length, width):\n",
    "        self.length = length\n",
    "        self.width = width\n",
    "\n",
    "    # Instance method\n",
    "    def perimeter(self):\n",
    "        print(f\"Your perimeter is {2*self.length*self.width}\")"
   ]
  },
  {
   "cell_type": "code",
   "execution_count": 2,
   "id": "901a6e74",
   "metadata": {},
   "outputs": [
    {
     "name": "stdout",
     "output_type": "stream",
     "text": [
      "Your perimeter is 40\n"
     ]
    }
   ],
   "source": [
    "a = rectangle(4, 5)\n",
    "\n",
    "a.perimeter()"
   ]
  },
  {
   "cell_type": "code",
   "execution_count": 3,
   "id": "4a34fa4d",
   "metadata": {},
   "outputs": [
    {
     "name": "stdout",
     "output_type": "stream",
     "text": [
      "Your perimeter is 96\n"
     ]
    }
   ],
   "source": [
    "b = rectangle(6, 8)\n",
    "\n",
    "b.perimeter()"
   ]
  },
  {
   "cell_type": "markdown",
   "id": "80496155",
   "metadata": {},
   "source": [
    "#### Class Method"
   ]
  },
  {
   "cell_type": "code",
   "execution_count": 25,
   "id": "57a6edc4",
   "metadata": {},
   "outputs": [],
   "source": [
    "class date:\n",
    "    def __init__(self, year, month, day):\n",
    "        self.year = year\n",
    "        self.month = month\n",
    "        self.day = day\n",
    "\n",
    "    #class Method\n",
    "    @classmethod\n",
    "    def date_from_string(cls, date_string): #cls refers to the Class itself\n",
    "        year, month, day = date_string.split(\"-\")\n",
    "        return cls(year, month, day) # This line creates the instance as \"date(year, month, day)\""
   ]
  },
  {
   "cell_type": "code",
   "execution_count": 26,
   "id": "ca331248",
   "metadata": {},
   "outputs": [
    {
     "name": "stdout",
     "output_type": "stream",
     "text": [
      "2025-6-10\n"
     ]
    }
   ],
   "source": [
    "ins = date(2025, 6, 10)\n",
    "\n",
    "print(ins.year, ins.month, ins.day, sep = '-')"
   ]
  },
  {
   "cell_type": "code",
   "execution_count": 27,
   "id": "06847ed7",
   "metadata": {},
   "outputs": [
    {
     "name": "stdout",
     "output_type": "stream",
     "text": [
      "2025-4-12\n"
     ]
    }
   ],
   "source": [
    "# ins_class holds the intance of the class date\n",
    "ins_class = date.date_from_string(\"2025-4-12\")\n",
    "\n",
    "print(ins_class.year, ins_class.month, ins_class.day, sep = '-')"
   ]
  },
  {
   "cell_type": "markdown",
   "id": "e3db1094",
   "metadata": {},
   "source": [
    "**In conclusion, when we want to create the objects from multiple formats of parameter not just Depending on single way**"
   ]
  },
  {
   "cell_type": "markdown",
   "id": "85fc8259",
   "metadata": {},
   "source": [
    "Both worked same and Here You can see the differences: \n",
    "* 1: The Instance is created Normally by giving the parameters of **YYYY, MM, DD**\n",
    "* 2: The Instance is created by calling the class method with refering the class, giving the parameter string **YYYY-MM-DD**"
   ]
  },
  {
   "cell_type": "markdown",
   "id": "877bfaa8",
   "metadata": {},
   "source": [
    "#### Static Method"
   ]
  },
  {
   "cell_type": "code",
   "execution_count": 23,
   "id": "37d9aeef",
   "metadata": {},
   "outputs": [],
   "source": [
    "class user:\n",
    "    def __init__(self, username, password):\n",
    "        if not user.check_credentials(username, password):\n",
    "            raise PermissionError(\"Invalid Username and password\")\n",
    "        self.username = username\n",
    "        self.password = password\n",
    "        print(\"The User name and the password is Correct.\\nYou have logined successfully\")\n",
    "\n",
    "    @staticmethod\n",
    "    def check_credentials(username, password):\n",
    "        return username == \"user\" and password == \"passkey\""
   ]
  },
  {
   "cell_type": "code",
   "execution_count": 24,
   "id": "c09629d1",
   "metadata": {},
   "outputs": [
    {
     "name": "stdout",
     "output_type": "stream",
     "text": [
      "The User name and the password is Correct.\n",
      "You have logined successfully\n"
     ]
    }
   ],
   "source": [
    "my = user(\"user\", \"passkey\")"
   ]
  },
  {
   "cell_type": "markdown",
   "id": "d3af17b3",
   "metadata": {},
   "source": [
    "#### Combinig all the methods in one class"
   ]
  },
  {
   "cell_type": "code",
   "execution_count": null,
   "id": "d85b2811",
   "metadata": {},
   "outputs": [],
   "source": [
    "class toolbox():\n",
    "\n",
    "    counter = 0\n",
    "    count_list = []\n",
    "    # initializer / Constructor\n",
    "    def __init__(self):\n",
    "        self.tool_list = []\n",
    "        toolbox.counter += 1\n",
    "        toolbox.count_list.append(self)\n",
    "\n",
    "    # Instance Method\n",
    "    def add_tool(self, tool):\n",
    "        if not toolbox.is_valid_tool(tool):\n",
    "            raise ValueError(\"Invalid Tool Name\")\n",
    "        self.tool_list.append(tool)\n",
    "        print(f\"The tool {tool} added succesfully in the list.\")\n",
    "\n",
    "    # Instance Method\n",
    "    def show_toollist(self):\n",
    "        print(\"Your tool list is:\", self.tool_list)\n",
    "\n",
    "    # Class method\n",
    "    @classmethod\n",
    "    def get_total_tools(cls):\n",
    "        print(f\"There are total {cls.counter} instances has been created\")\n",
    "\n",
    "    # Static Method\n",
    "    @staticmethod\n",
    "    def is_valid_tool(tool_name: str):\n",
    "        return len(tool_name) > 3 and tool_name == tool_name.capitalize()"
   ]
  },
  {
   "cell_type": "code",
   "execution_count": 10,
   "id": "5c576a5d",
   "metadata": {},
   "outputs": [
    {
     "name": "stdout",
     "output_type": "stream",
     "text": [
      "The tool Hammer added succesfully in the list.\n",
      "The tool Screw added succesfully in the list.\n",
      "Your tool list is: ['Hammer', 'Screw']\n"
     ]
    }
   ],
   "source": [
    "tool = toolbox()\n",
    "tool.add_tool(\"Hammer\")\n",
    "tool.add_tool(\"Screw\")\n",
    "tool.show_toollist()"
   ]
  },
  {
   "cell_type": "code",
   "execution_count": 11,
   "id": "e269e174",
   "metadata": {},
   "outputs": [],
   "source": [
    "tool1 = toolbox()\n",
    "tool2 = toolbox()\n",
    "tool3 = toolbox()"
   ]
  },
  {
   "cell_type": "code",
   "execution_count": 13,
   "id": "622e68a5",
   "metadata": {},
   "outputs": [
    {
     "name": "stdout",
     "output_type": "stream",
     "text": [
      "There are total 4 instances has been created\n"
     ]
    }
   ],
   "source": [
    "toolbox.get_total_tools()"
   ]
  },
  {
   "cell_type": "code",
   "execution_count": 14,
   "id": "267c6fd6",
   "metadata": {},
   "outputs": [
    {
     "data": {
      "text/plain": [
       "False"
      ]
     },
     "execution_count": 14,
     "metadata": {},
     "output_type": "execute_result"
    }
   ],
   "source": [
    "toolbox.is_valid_tool(\"Hammer\")\n",
    "\n",
    "toolbox.is_valid_tool(\"Ham\")"
   ]
  }
 ],
 "metadata": {
  "kernelspec": {
   "display_name": "venv",
   "language": "python",
   "name": "python3"
  },
  "language_info": {
   "codemirror_mode": {
    "name": "ipython",
    "version": 3
   },
   "file_extension": ".py",
   "mimetype": "text/x-python",
   "name": "python",
   "nbconvert_exporter": "python",
   "pygments_lexer": "ipython3",
   "version": "3.12.1"
  }
 },
 "nbformat": 4,
 "nbformat_minor": 5
}
