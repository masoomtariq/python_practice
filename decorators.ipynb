{
 "cells": [
  {
   "cell_type": "markdown",
   "id": "19b0a3ce",
   "metadata": {},
   "source": [
    "## Decorators in python"
   ]
  },
  {
   "cell_type": "markdown",
   "id": "d760964b",
   "metadata": {},
   "source": [
    "#### Decorator Functionality using manual Wrapping, without decorator syntax"
   ]
  },
  {
   "cell_type": "code",
   "execution_count": null,
   "id": "47b603bf",
   "metadata": {},
   "outputs": [
    {
     "name": "stdout",
     "output_type": "stream",
     "text": [
      "5.0\n"
     ]
    }
   ],
   "source": [
    "# Defining the function\n",
    "def add(a, b):\n",
    "\n",
    "    return a/b\n",
    "\n",
    "# Calling the decorator\n",
    "add = decorator(add)\n",
    "\n",
    "print(add(2, 10))"
   ]
  },
  {
   "cell_type": "markdown",
   "id": "57d1f6b0",
   "metadata": {},
   "source": [
    "#### Using decorator syntax and Automatic wrapping"
   ]
  },
  {
   "cell_type": "code",
   "execution_count": null,
   "id": "3ed1eadd",
   "metadata": {},
   "outputs": [
    {
     "name": "stdout",
     "output_type": "stream",
     "text": [
      "5.0\n"
     ]
    }
   ],
   "source": [
    "# Defining the decorator\n",
    "def decorator(func):\n",
    "\n",
    "    def wrapper(a, b):\n",
    "\n",
    "        if a < b:\n",
    "            a, b = b, a\n",
    "        return func(a, b)\n",
    "    return wrapper\n",
    "\n",
    "# Calling the decorator\n",
    "@decorator\n",
    "def add(a, b):\n",
    "    return a/b\n",
    "\n",
    "print(add(2, 10))"
   ]
  },
  {
   "cell_type": "markdown",
   "id": "af76ede4",
   "metadata": {},
   "source": [
    "### Decorator Examples\n",
    "#### **Practices**"
   ]
  },
  {
   "cell_type": "markdown",
   "id": "f9c65039",
   "metadata": {},
   "source": [
    "#### Level 1\n",
    "**Simple Decorator that print something before calling a function**"
   ]
  },
  {
   "cell_type": "code",
   "execution_count": null,
   "id": "b7ff83c7",
   "metadata": {},
   "outputs": [],
   "source": [
    "import time\n",
    "# Defining the decorator\n",
    "def decorator(func):\n",
    "    \n",
    "    def wrapper(name = \"user\"):\n",
    "        \n",
    "        print(f\"A little break for you before calling the Function : Dear --'{name}'--\")\n",
    "\n",
    "        time.sleep(5)\n",
    "        return func(name)\n",
    "    return wrapper"
   ]
  },
  {
   "cell_type": "code",
   "execution_count": null,
   "id": "48eaaca9",
   "metadata": {},
   "outputs": [],
   "source": [
    "# Calling the decorator\n",
    "@decorator\n",
    "def greet(name = \"user\"):\n",
    "    print(f\"Hellow {name}\")"
   ]
  },
  {
   "cell_type": "code",
   "execution_count": null,
   "id": "a872770c",
   "metadata": {},
   "outputs": [],
   "source": [
    "greet(\"Masoom\")"
   ]
  },
  {
   "cell_type": "markdown",
   "id": "62626e74",
   "metadata": {},
   "source": [
    "#### Level 2\n",
    "**Create a decorator that restricts a function to run only at once**"
   ]
  },
  {
   "cell_type": "code",
   "execution_count": null,
   "id": "73cb0ca7",
   "metadata": {},
   "outputs": [],
   "source": [
    "# Defining the decorator\n",
    "def run_once(func):\n",
    "    run_before = False\n",
    "\n",
    "    def wrapper():\n",
    "        nonlocal run_before  # Tell Python to use the variable from the outer scope\n",
    "        if not run_before:\n",
    "            run_before = True  # Mark as run before calling\n",
    "            return func()\n",
    "        else:\n",
    "            print(\"The function has already run before.\")\n",
    "\n",
    "    return wrapper\n"
   ]
  },
  {
   "cell_type": "code",
   "execution_count": null,
   "id": "6297ba10",
   "metadata": {},
   "outputs": [],
   "source": [
    "# Calling the decorator\n",
    "@run_once\n",
    "def greetin():\n",
    "    print(\"Hello\")"
   ]
  },
  {
   "cell_type": "code",
   "execution_count": 31,
   "id": "9fc1f85e",
   "metadata": {},
   "outputs": [
    {
     "name": "stdout",
     "output_type": "stream",
     "text": [
      "The function has already run before.\n"
     ]
    }
   ],
   "source": [
    "greetin()"
   ]
  },
  {
   "cell_type": "markdown",
   "id": "b5f0e9e9",
   "metadata": {},
   "source": [
    "#### Level 3\n",
    "##### Create a decotator that caches function results (Memorization)\n",
    "**🧠 Goal: Improve performance by caching results of expensive function calls, so repeated calls with the same arguments return instantly.**"
   ]
  },
  {
   "cell_type": "code",
   "execution_count": null,
   "id": "c71eeeda",
   "metadata": {},
   "outputs": [],
   "source": [
    "def memorize(func):\n",
    "    caches = {}\n",
    "    def wrapper(*args, **kwargs):\n",
    "        if args in caches:\n",
    "            print(f\"Returning cached result for {args}\")\n",
    "            return caches[args]\n",
    "        print(f\"Calculating the result for {args}\")\n",
    "        result = func(*args)\n",
    "        caches[args] = result\n",
    "        return result\n",
    "    return wrapper\n",
    "        "
   ]
  },
  {
   "cell_type": "code",
   "execution_count": 45,
   "id": "3f27a12c",
   "metadata": {},
   "outputs": [],
   "source": [
    "@memorize\n",
    "def fibonacci(n):\n",
    "    if n <= 1:\n",
    "        return n\n",
    "    return fibonacci(n - 1) + fibonacci(n - 2)"
   ]
  },
  {
   "cell_type": "code",
   "execution_count": 48,
   "id": "1994fe0e",
   "metadata": {},
   "outputs": [
    {
     "name": "stdout",
     "output_type": "stream",
     "text": [
      "Returning cached result for (9,)\n"
     ]
    },
    {
     "data": {
      "text/plain": [
       "34"
      ]
     },
     "execution_count": 48,
     "metadata": {},
     "output_type": "execute_result"
    }
   ],
   "source": [
    "fibonacci(9)"
   ]
  },
  {
   "cell_type": "code",
   "execution_count": 50,
   "id": "8b1e72bd",
   "metadata": {},
   "outputs": [],
   "source": [
    "@memorize\n",
    "def add(a, b):\n",
    "    return a*b"
   ]
  },
  {
   "cell_type": "code",
   "execution_count": 54,
   "id": "15eb3b8f",
   "metadata": {},
   "outputs": [
    {
     "name": "stdout",
     "output_type": "stream",
     "text": [
      "Returning cached result for (5, 9)\n",
      "45\n"
     ]
    }
   ],
   "source": [
    "print(add(5, 9))"
   ]
  },
  {
   "cell_type": "markdown",
   "id": "c90c2a01",
   "metadata": {},
   "source": [
    "### Class-Based Decorator"
   ]
  },
  {
   "cell_type": "code",
   "execution_count": 1,
   "id": "7d54f9e9",
   "metadata": {},
   "outputs": [],
   "source": [
    "class CountCalls:\n",
    "    def __init__(self, func):\n",
    "        self.func = func\n",
    "        self.count = 0  # This keeps state across calls\n",
    "\n",
    "    def __call__(self, *args, **kwargs):\n",
    "        self.count += 1\n",
    "        print(f\"Call {self.count} of {self.func.__name__}\")\n",
    "        return self.func(*args, **kwargs)\n"
   ]
  },
  {
   "cell_type": "code",
   "execution_count": 2,
   "id": "b7d0bd7c",
   "metadata": {},
   "outputs": [
    {
     "name": "stdout",
     "output_type": "stream",
     "text": [
      "Call 1 of greet\n",
      "Hello!\n",
      "Call 2 of greet\n",
      "Hello!\n"
     ]
    }
   ],
   "source": [
    "@CountCalls\n",
    "def greet():\n",
    "    print(\"Hello!\")\n",
    "\n",
    "greet()  # Call 1 of greet\n",
    "greet()  # Call 2 of greet"
   ]
  }
 ],
 "metadata": {
  "kernelspec": {
   "display_name": "Python 3",
   "language": "python",
   "name": "python3"
  },
  "language_info": {
   "codemirror_mode": {
    "name": "ipython",
    "version": 3
   },
   "file_extension": ".py",
   "mimetype": "text/x-python",
   "name": "python",
   "nbconvert_exporter": "python",
   "pygments_lexer": "ipython3",
   "version": "3.13.3"
  }
 },
 "nbformat": 4,
 "nbformat_minor": 5
}
